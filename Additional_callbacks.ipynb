{
  "nbformat": 4,
  "nbformat_minor": 0,
  "metadata": {
    "kernelspec": {
      "display_name": "Python 3",
      "language": "python",
      "name": "python3"
    },
    "language_info": {
      "codemirror_mode": {
        "name": "ipython",
        "version": 3
      },
      "file_extension": ".py",
      "mimetype": "text/x-python",
      "name": "python",
      "nbconvert_exporter": "python",
      "pygments_lexer": "ipython3",
      "version": "3.7.1"
    },
    "colab": {
      "name": "Additional callbacks.ipynb",
      "provenance": [],
      "include_colab_link": true
    }
  },
  "cells": [
    {
      "cell_type": "markdown",
      "metadata": {
        "id": "view-in-github",
        "colab_type": "text"
      },
      "source": [
        "<a href=\"https://colab.research.google.com/github/vkamma/Tensorflow/blob/main/Additional_callbacks.ipynb\" target=\"_parent\"><img src=\"https://colab.research.google.com/assets/colab-badge.svg\" alt=\"Open In Colab\"/></a>"
      ]
    },
    {
      "cell_type": "markdown",
      "metadata": {
        "id": "_aiGT8ZuaSfF"
      },
      "source": [
        "# Additional callbacks\n",
        "\n",
        "In this reading we'll be looking at more of the inbuilt callbacks available in Keras."
      ]
    },
    {
      "cell_type": "code",
      "metadata": {
        "id": "gTv_mNWgaSfH",
        "outputId": "483dbf40-3cb4-4ee6-f2f0-ca041915bdf9",
        "colab": {
          "base_uri": "https://localhost:8080/"
        }
      },
      "source": [
        "import tensorflow as tf\n",
        "print(tf.__version__)"
      ],
      "execution_count": 1,
      "outputs": [
        {
          "output_type": "stream",
          "text": [
            "2.5.0\n"
          ],
          "name": "stdout"
        }
      ]
    },
    {
      "cell_type": "markdown",
      "metadata": {
        "id": "iuqsKrXSaSfI"
      },
      "source": [
        "We will again be using the sklearn diabetes dataset to demonstrate these callbacks."
      ]
    },
    {
      "cell_type": "code",
      "metadata": {
        "id": "lz3Ajb6eaSfI"
      },
      "source": [
        "# Load the diabetes dataset\n",
        "\n",
        "from sklearn.datasets import load_diabetes\n",
        "\n",
        "diabetes_dataset = load_diabetes()"
      ],
      "execution_count": 2,
      "outputs": []
    },
    {
      "cell_type": "code",
      "metadata": {
        "id": "gaHyMaw6aSfJ"
      },
      "source": [
        "# Save the input and target variables\n",
        "\n",
        "from sklearn.model_selection import train_test_split\n",
        "\n",
        "data = diabetes_dataset['data']\n",
        "targets = diabetes_dataset['target']"
      ],
      "execution_count": 3,
      "outputs": []
    },
    {
      "cell_type": "code",
      "metadata": {
        "id": "oUNox7kxaSfJ"
      },
      "source": [
        "# Split the data set into training and test sets\n",
        "\n",
        "train_data, test_data, train_targets, test_targets = train_test_split(data, targets, test_size=0.1)"
      ],
      "execution_count": 4,
      "outputs": []
    },
    {
      "cell_type": "markdown",
      "metadata": {
        "id": "poxuwspGaSfK"
      },
      "source": [
        "Let's also build a simple model to fit to the data with our callbacks."
      ]
    },
    {
      "cell_type": "code",
      "metadata": {
        "id": "xvOHiKwraSfK"
      },
      "source": [
        "# Build the model\n",
        "\n",
        "from tensorflow.keras.models import Sequential\n",
        "from tensorflow.keras.layers import Dense\n",
        "\n",
        "model = tf.keras.Sequential([\n",
        "    Dense(128, activation='relu', input_shape=(train_data.shape[1],)),\n",
        "    Dense(64,activation='relu'),\n",
        "    Dense(64, activation='relu'),\n",
        "    Dense(64, activation='relu'),\n",
        "    Dense(1)        \n",
        "])"
      ],
      "execution_count": 5,
      "outputs": []
    },
    {
      "cell_type": "code",
      "metadata": {
        "id": "4ThnsNA8aSfL"
      },
      "source": [
        "# Compile the model\n",
        "\n",
        "model.compile(loss='mse',\n",
        "                optimizer=\"adam\",metrics=[\"mse\",\"mae\"])"
      ],
      "execution_count": 6,
      "outputs": []
    },
    {
      "cell_type": "markdown",
      "metadata": {
        "id": "JM9_RmB6aSfM"
      },
      "source": [
        "Now onto the callbacks!"
      ]
    },
    {
      "cell_type": "markdown",
      "metadata": {
        "id": "OerGcROlaSfN"
      },
      "source": [
        "## Learning rate scheduler\n",
        "\n",
        "**Usage:** `tf.keras.callbacks.LearningRateScheduler(schedule, verbose=0)`\n",
        "\n",
        "The learning rate scheduler that we implemented in the previous reading as a custom callback is also available as a built in callback. \n",
        "\n",
        "As in our custom callback, the `LearningRateScheduler` in Keras takes a function `schedule` as an argument. \n",
        "\n",
        "This function `schedule` should take two arguments:\n",
        "* The current epoch (as an integer), and\n",
        "* The current learning rate,\n",
        "\n",
        "and return new learning rate for that epoch. \n",
        "\n",
        "The `LearningRateScheduler` also has an optional `verbose` argument, which prints information about the learning rate if it is set to 1.\n",
        "\n",
        "Let's see a simple example."
      ]
    },
    {
      "cell_type": "code",
      "metadata": {
        "id": "xe-ghfZ-aSfO"
      },
      "source": [
        "# Define the learning rate schedule function\n",
        "\n",
        "def lr_function(epoch, lr):\n",
        "    if epoch % 2 == 0:\n",
        "        return lr\n",
        "    else:\n",
        "        return lr + epoch/1000"
      ],
      "execution_count": 7,
      "outputs": []
    },
    {
      "cell_type": "code",
      "metadata": {
        "id": "rfT-ZHgBaSfP",
        "outputId": "a87e7fff-9f90-489d-96ef-efe0b5ee9ffd",
        "colab": {
          "base_uri": "https://localhost:8080/"
        }
      },
      "source": [
        "# Train the model\n",
        "\n",
        "history = model.fit(train_data, train_targets, epochs=10,\n",
        "                    callbacks=[tf.keras.callbacks.LearningRateScheduler(lr_function, verbose=1)], verbose=False)"
      ],
      "execution_count": 8,
      "outputs": [
        {
          "output_type": "stream",
          "text": [
            "\n",
            "Epoch 00001: LearningRateScheduler reducing learning rate to 0.0010000000474974513.\n",
            "\n",
            "Epoch 00002: LearningRateScheduler reducing learning rate to 0.0020000000474974513.\n",
            "\n",
            "Epoch 00003: LearningRateScheduler reducing learning rate to 0.0020000000949949026.\n",
            "\n",
            "Epoch 00004: LearningRateScheduler reducing learning rate to 0.005000000094994903.\n",
            "\n",
            "Epoch 00005: LearningRateScheduler reducing learning rate to 0.004999999888241291.\n",
            "\n",
            "Epoch 00006: LearningRateScheduler reducing learning rate to 0.009999999888241292.\n",
            "\n",
            "Epoch 00007: LearningRateScheduler reducing learning rate to 0.009999999776482582.\n",
            "\n",
            "Epoch 00008: LearningRateScheduler reducing learning rate to 0.01699999977648258.\n",
            "\n",
            "Epoch 00009: LearningRateScheduler reducing learning rate to 0.016999999061226845.\n",
            "\n",
            "Epoch 00010: LearningRateScheduler reducing learning rate to 0.025999999061226846.\n"
          ],
          "name": "stdout"
        }
      ]
    },
    {
      "cell_type": "markdown",
      "metadata": {
        "id": "-5faTO_caSfQ"
      },
      "source": [
        "You can also use lambda functions to define your `schedule` given an epoch."
      ]
    },
    {
      "cell_type": "code",
      "metadata": {
        "id": "24MbKp9maSfR",
        "outputId": "e749037b-4a8f-4c0d-fa1b-382922626dd0",
        "colab": {
          "base_uri": "https://localhost:8080/"
        }
      },
      "source": [
        "# Train the model with a difference schedule\n",
        "\n",
        "history = model.fit(train_data, train_targets, epochs=10,\n",
        "                    callbacks=[tf.keras.callbacks.LearningRateScheduler(lambda x:1/(3+5*x), verbose=1)], \n",
        "                    verbose=False)"
      ],
      "execution_count": 9,
      "outputs": [
        {
          "output_type": "stream",
          "text": [
            "\n",
            "Epoch 00001: LearningRateScheduler reducing learning rate to 0.3333333333333333.\n",
            "\n",
            "Epoch 00002: LearningRateScheduler reducing learning rate to 0.125.\n",
            "\n",
            "Epoch 00003: LearningRateScheduler reducing learning rate to 0.07692307692307693.\n",
            "\n",
            "Epoch 00004: LearningRateScheduler reducing learning rate to 0.05555555555555555.\n",
            "\n",
            "Epoch 00005: LearningRateScheduler reducing learning rate to 0.043478260869565216.\n",
            "\n",
            "Epoch 00006: LearningRateScheduler reducing learning rate to 0.03571428571428571.\n",
            "\n",
            "Epoch 00007: LearningRateScheduler reducing learning rate to 0.030303030303030304.\n",
            "\n",
            "Epoch 00008: LearningRateScheduler reducing learning rate to 0.02631578947368421.\n",
            "\n",
            "Epoch 00009: LearningRateScheduler reducing learning rate to 0.023255813953488372.\n",
            "\n",
            "Epoch 00010: LearningRateScheduler reducing learning rate to 0.020833333333333332.\n"
          ],
          "name": "stdout"
        }
      ]
    },
    {
      "cell_type": "markdown",
      "metadata": {
        "id": "rvDryLCJaSfS"
      },
      "source": [
        "## CSV logger\n",
        "**Usage** `tf.keras.callbacks.CSVLogger(filename, separator=',', append=False)`\n",
        "\n",
        "This callback streams the results from each epoch into a CSV file.\n",
        "The first line of the CSV file will be the names of pieces of information recorded on each subsequent line, beginning with the epoch and loss value. The values of metrics at the end of each epoch will also be recorded.\n",
        "\n",
        "The only compulsory argument is the `filename` for the log to be streamed to. This could also be a filepath.\n",
        "\n",
        "You can also specify the `separator` to be used between entries on each line.\n",
        "\n",
        "The `append` argument allows you the option to append your results to an existing file with the same name. This can be particularly useful if you are continuing training.\n",
        "\n",
        "Let's see an example."
      ]
    },
    {
      "cell_type": "code",
      "metadata": {
        "id": "pkduX07jaSfT"
      },
      "source": [
        "# Train the model with a CSV logger\n",
        "\n",
        "history = model.fit(train_data, train_targets, epochs=10,\n",
        "                    callbacks=[tf.keras.callbacks.CSVLogger(\"results.csv\")], verbose=False)"
      ],
      "execution_count": 10,
      "outputs": []
    },
    {
      "cell_type": "markdown",
      "metadata": {
        "id": "j-0NIdXzaSfU"
      },
      "source": [
        "Let's view the information in the CSV file we have created using `pandas`."
      ]
    },
    {
      "cell_type": "code",
      "metadata": {
        "id": "XG8p-m1OaSfU",
        "outputId": "3f02abe3-759c-4e9e-8f3a-4e548c7afbb0",
        "colab": {
          "base_uri": "https://localhost:8080/",
          "height": 390
        }
      },
      "source": [
        "# Load the CSV\n",
        "\n",
        "import pandas as pd\n",
        "\n",
        "pd.read_csv(\"results.csv\", index_col='epoch')"
      ],
      "execution_count": 11,
      "outputs": [
        {
          "output_type": "execute_result",
          "data": {
            "text/html": [
              "<div>\n",
              "<style scoped>\n",
              "    .dataframe tbody tr th:only-of-type {\n",
              "        vertical-align: middle;\n",
              "    }\n",
              "\n",
              "    .dataframe tbody tr th {\n",
              "        vertical-align: top;\n",
              "    }\n",
              "\n",
              "    .dataframe thead th {\n",
              "        text-align: right;\n",
              "    }\n",
              "</style>\n",
              "<table border=\"1\" class=\"dataframe\">\n",
              "  <thead>\n",
              "    <tr style=\"text-align: right;\">\n",
              "      <th></th>\n",
              "      <th>loss</th>\n",
              "      <th>mae</th>\n",
              "      <th>mse</th>\n",
              "    </tr>\n",
              "    <tr>\n",
              "      <th>epoch</th>\n",
              "      <th></th>\n",
              "      <th></th>\n",
              "      <th></th>\n",
              "    </tr>\n",
              "  </thead>\n",
              "  <tbody>\n",
              "    <tr>\n",
              "      <th>0</th>\n",
              "      <td>5838.937500</td>\n",
              "      <td>65.014008</td>\n",
              "      <td>5838.937500</td>\n",
              "    </tr>\n",
              "    <tr>\n",
              "      <th>1</th>\n",
              "      <td>5815.036621</td>\n",
              "      <td>64.800896</td>\n",
              "      <td>5815.036621</td>\n",
              "    </tr>\n",
              "    <tr>\n",
              "      <th>2</th>\n",
              "      <td>5822.306152</td>\n",
              "      <td>65.579063</td>\n",
              "      <td>5822.306152</td>\n",
              "    </tr>\n",
              "    <tr>\n",
              "      <th>3</th>\n",
              "      <td>5803.332031</td>\n",
              "      <td>65.095978</td>\n",
              "      <td>5803.332031</td>\n",
              "    </tr>\n",
              "    <tr>\n",
              "      <th>4</th>\n",
              "      <td>5823.440918</td>\n",
              "      <td>65.277557</td>\n",
              "      <td>5823.440918</td>\n",
              "    </tr>\n",
              "    <tr>\n",
              "      <th>5</th>\n",
              "      <td>5809.470215</td>\n",
              "      <td>65.139137</td>\n",
              "      <td>5809.470215</td>\n",
              "    </tr>\n",
              "    <tr>\n",
              "      <th>6</th>\n",
              "      <td>5839.292969</td>\n",
              "      <td>65.225960</td>\n",
              "      <td>5839.292969</td>\n",
              "    </tr>\n",
              "    <tr>\n",
              "      <th>7</th>\n",
              "      <td>5835.428711</td>\n",
              "      <td>65.168877</td>\n",
              "      <td>5835.428711</td>\n",
              "    </tr>\n",
              "    <tr>\n",
              "      <th>8</th>\n",
              "      <td>5842.692871</td>\n",
              "      <td>65.737885</td>\n",
              "      <td>5842.692871</td>\n",
              "    </tr>\n",
              "    <tr>\n",
              "      <th>9</th>\n",
              "      <td>5833.023438</td>\n",
              "      <td>65.247223</td>\n",
              "      <td>5833.023438</td>\n",
              "    </tr>\n",
              "  </tbody>\n",
              "</table>\n",
              "</div>"
            ],
            "text/plain": [
              "              loss        mae          mse\n",
              "epoch                                     \n",
              "0      5838.937500  65.014008  5838.937500\n",
              "1      5815.036621  64.800896  5815.036621\n",
              "2      5822.306152  65.579063  5822.306152\n",
              "3      5803.332031  65.095978  5803.332031\n",
              "4      5823.440918  65.277557  5823.440918\n",
              "5      5809.470215  65.139137  5809.470215\n",
              "6      5839.292969  65.225960  5839.292969\n",
              "7      5835.428711  65.168877  5835.428711\n",
              "8      5842.692871  65.737885  5842.692871\n",
              "9      5833.023438  65.247223  5833.023438"
            ]
          },
          "metadata": {
            "tags": []
          },
          "execution_count": 11
        }
      ]
    },
    {
      "cell_type": "markdown",
      "metadata": {
        "id": "-jDe6cuDaSfU"
      },
      "source": [
        "## Lambda callbacks\n",
        "**Usage** `tf.keras.callbacks.LambdaCallback(\n",
        "        on_epoch_begin=None, on_epoch_end=None, \n",
        "        on_batch_begin=None, on_batch_end=None, \n",
        "        on_train_begin=None, on_train_end=None)`\n",
        "\n",
        "Lambda callbacks are used to quickly define simple custom callbacks with the use of lambda functions.\n",
        "\n",
        "Each of the functions require some positional arguments.\n",
        "* `on_epoch_begin` and `on_epoch_end` expect two arguments: `epoch` and `logs`,\n",
        "* `on_batch_begin` and `on_batch_end` expect two arguments: `batch` and `logs` and\n",
        "* `on_train_begin` and `on_train_end` expect one argument: `logs`.\n",
        "\n",
        "Let's see an example of this in practice."
      ]
    },
    {
      "cell_type": "code",
      "metadata": {
        "id": "MC5yRBbiaSfV"
      },
      "source": [
        "# Print the epoch number at the beginning of each epoch\n",
        "\n",
        "epoch_callback = tf.keras.callbacks.LambdaCallback(\n",
        "    on_epoch_begin=lambda epoch,logs: print('Starting Epoch {}!'.format(epoch+1)))"
      ],
      "execution_count": 12,
      "outputs": []
    },
    {
      "cell_type": "code",
      "metadata": {
        "id": "E-lljsx2aSfW"
      },
      "source": [
        "# Print the loss at the end of each batch\n",
        "\n",
        "batch_loss_callback = tf.keras.callbacks.LambdaCallback(\n",
        "    on_batch_end=lambda batch,logs: print('\\n After batch {}, the loss is {:7.2f}.'.format(batch, logs['loss'])))"
      ],
      "execution_count": 13,
      "outputs": []
    },
    {
      "cell_type": "code",
      "metadata": {
        "id": "rj1pZ02caSfW"
      },
      "source": [
        "# Inform that training is finished\n",
        "\n",
        "train_finish_callback = tf.keras.callbacks.LambdaCallback(\n",
        "    on_train_end=lambda logs: print('Training finished!'))"
      ],
      "execution_count": 14,
      "outputs": []
    },
    {
      "cell_type": "code",
      "metadata": {
        "id": "VnZc9dniaSfX",
        "outputId": "dc19b27a-fe76-41e0-f556-2f1c1d9df2ae",
        "colab": {
          "base_uri": "https://localhost:8080/"
        }
      },
      "source": [
        "# Train the model with the lambda callbacks\n",
        "\n",
        "history = model.fit(train_data, train_targets, epochs=5, batch_size=100,\n",
        "                    callbacks=[epoch_callback, batch_loss_callback,train_finish_callback], verbose=False)"
      ],
      "execution_count": 15,
      "outputs": [
        {
          "output_type": "stream",
          "text": [
            "Starting Epoch 1!\n",
            "\n",
            " After batch 0, the loss is 6203.93.\n",
            "\n",
            " After batch 1, the loss is 5606.73.\n",
            "\n",
            " After batch 2, the loss is 5387.86.\n",
            "\n",
            " After batch 3, the loss is 5824.66.\n",
            "Starting Epoch 2!\n",
            "\n",
            " After batch 0, the loss is 6123.02.\n",
            "\n",
            " After batch 1, the loss is 5766.44.\n",
            "\n",
            " After batch 2, the loss is 5883.11.\n",
            "\n",
            " After batch 3, the loss is 5824.38.\n",
            "Starting Epoch 3!\n",
            "\n",
            " After batch 0, the loss is 5962.56.\n",
            "\n",
            " After batch 1, the loss is 5844.26.\n",
            "\n",
            " After batch 2, the loss is 5783.33.\n",
            "\n",
            " After batch 3, the loss is 5821.15.\n",
            "Starting Epoch 4!\n",
            "\n",
            " After batch 0, the loss is 6158.16.\n",
            "\n",
            " After batch 1, the loss is 5993.12.\n",
            "\n",
            " After batch 2, the loss is 5855.34.\n",
            "\n",
            " After batch 3, the loss is 5816.55.\n",
            "Starting Epoch 5!\n",
            "\n",
            " After batch 0, the loss is 5545.84.\n",
            "\n",
            " After batch 1, the loss is 5338.52.\n",
            "\n",
            " After batch 2, the loss is 5493.73.\n",
            "\n",
            " After batch 3, the loss is 5808.00.\n",
            "Training finished!\n"
          ],
          "name": "stdout"
        }
      ]
    },
    {
      "cell_type": "markdown",
      "metadata": {
        "id": "HsPdogDuaSfX"
      },
      "source": [
        "## Reduce learning rate on plateau\n",
        "**Usage** `tf.keras.callbacks.ReduceLROnPlateau(\n",
        "            monitor='val_loss', \n",
        "            factor=0.1, \n",
        "            patience=10, \n",
        "            verbose=0, \n",
        "            mode='auto', \n",
        "            min_delta=0.0001, \n",
        "            cooldown=0, \n",
        "            min_lr=0)`\n",
        "\n",
        "The `ReduceLROnPlateau` callback allows reduction of the learning rate when a metric has stopped improving. \n",
        "The arguments are similar to those used in the `EarlyStopping` callback.\n",
        "* The argument `monitor` is used to specify which metric to base the callback on.\n",
        "* The `factor` is the factor by which the learning rate decreases i.e., new_lr=factor*old_lr.\n",
        "* The `patience` is the number of epochs where there is no improvement on the monitored metric before the learning rate is reduced.\n",
        "* The `verbose` argument will produce progress messages when set to 1.\n",
        "* The `mode` determines whether the learning rate will decrease when the monitored quantity stops increasing (`max`) or decreasing (`min`). The `auto` setting causes the callback to infer the mode from the monitored quantity.\n",
        "* The `min_delta` is the smallest change in the monitored quantity to be deemed an improvement.\n",
        "* The `cooldown` is the number of epochs to wait after the learning rate is changed before the callback resumes normal operation.\n",
        "* The `min_lr` is a lower bound on the learning rate that the callback will produce.\n",
        "\n",
        "Let's examine a final example."
      ]
    },
    {
      "cell_type": "code",
      "metadata": {
        "id": "GnEMbtcgaSfY",
        "outputId": "fae2d276-ed03-4dbe-a257-48dd8b93e69b",
        "colab": {
          "base_uri": "https://localhost:8080/"
        }
      },
      "source": [
        "# Train the model with the ReduceLROnPlateau callback\n",
        "\n",
        "history = model.fit(train_data, train_targets, epochs=100, batch_size=100,\n",
        "                    callbacks=[tf.keras.callbacks.ReduceLROnPlateau(\n",
        "                        monitor=\"loss\",factor=0.2, verbose=1)], verbose=False)"
      ],
      "execution_count": 16,
      "outputs": [
        {
          "output_type": "stream",
          "text": [
            "\n",
            "Epoch 00011: ReduceLROnPlateau reducing learning rate to 0.00416666679084301.\n",
            "\n",
            "Epoch 00027: ReduceLROnPlateau reducing learning rate to 0.0008333333767950535.\n",
            "\n",
            "Epoch 00037: ReduceLROnPlateau reducing learning rate to 0.00016666667070239783.\n",
            "\n",
            "Epoch 00047: ReduceLROnPlateau reducing learning rate to 3.333333297632635e-05.\n",
            "\n",
            "Epoch 00057: ReduceLROnPlateau reducing learning rate to 6.666666740784422e-06.\n",
            "\n",
            "Epoch 00067: ReduceLROnPlateau reducing learning rate to 1.3333333299669903e-06.\n",
            "\n",
            "Epoch 00077: ReduceLROnPlateau reducing learning rate to 2.666666659933981e-07.\n",
            "\n",
            "Epoch 00087: ReduceLROnPlateau reducing learning rate to 5.3333332061811235e-08.\n",
            "\n",
            "Epoch 00097: ReduceLROnPlateau reducing learning rate to 1.0666666128145153e-08.\n"
          ],
          "name": "stdout"
        }
      ]
    },
    {
      "cell_type": "markdown",
      "metadata": {
        "id": "gYPeyxJ2aSfY"
      },
      "source": [
        "### Further reading and resources\n",
        "* https://keras.io/callbacks/\n",
        "* https://www.tensorflow.org/api_docs/python/tf/keras/callbacks/LearningRateScheduler\n",
        "* https://www.tensorflow.org/api_docs/python/tf/keras/callbacks/CSVLogger\n",
        "* https://www.tensorflow.org/api_docs/python/tf/keras/callbacks/LambdaCallback"
      ]
    }
  ]
}