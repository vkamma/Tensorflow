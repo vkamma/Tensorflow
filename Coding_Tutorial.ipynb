{
  "nbformat": 4,
  "nbformat_minor": 0,
  "metadata": {
    "kernelspec": {
      "display_name": "Python 3",
      "language": "python",
      "name": "python3"
    },
    "language_info": {
      "codemirror_mode": {
        "name": "ipython",
        "version": 3
      },
      "file_extension": ".py",
      "mimetype": "text/x-python",
      "name": "python",
      "nbconvert_exporter": "python",
      "pygments_lexer": "ipython3",
      "version": "3.7.1"
    },
    "colab": {
      "name": "Coding Tutorial.ipynb",
      "provenance": [],
      "include_colab_link": true
    }
  },
  "cells": [
    {
      "cell_type": "markdown",
      "metadata": {
        "id": "view-in-github",
        "colab_type": "text"
      },
      "source": [
        "<a href=\"https://colab.research.google.com/github/vkamma/Tensorflow/blob/main/Coding_Tutorial.ipynb\" target=\"_parent\"><img src=\"https://colab.research.google.com/assets/colab-badge.svg\" alt=\"Open In Colab\"/></a>"
      ]
    },
    {
      "cell_type": "code",
      "metadata": {
        "scrolled": true,
        "id": "Wir8CK26tjLD",
        "outputId": "6823469a-c5f6-4e92-9069-2645c491181d",
        "colab": {
          "base_uri": "https://localhost:8080/"
        }
      },
      "source": [
        "import tensorflow as tf\n",
        "print(tf.__version__)"
      ],
      "execution_count": 1,
      "outputs": [
        {
          "output_type": "stream",
          "text": [
            "2.5.0\n"
          ],
          "name": "stdout"
        }
      ]
    },
    {
      "cell_type": "markdown",
      "metadata": {
        "id": "toKeXNJ6tjLI"
      },
      "source": [
        "# Validation, regularisation and callbacks"
      ]
    },
    {
      "cell_type": "markdown",
      "metadata": {
        "id": "zXe_vZEjtjLI"
      },
      "source": [
        " ## Coding tutorials\n",
        " #### [1. Validation sets](#coding_tutorial_1)\n",
        " #### [2. Model regularisation](#coding_tutorial_2)\n",
        " #### [3. Introduction to callbacks](#coding_tutorial_3)\n",
        " #### [4. Early stopping / patience](#coding_tutorial_4)"
      ]
    },
    {
      "cell_type": "markdown",
      "metadata": {
        "id": "dFQks9kWtjLJ"
      },
      "source": [
        "***\n",
        "<a id=\"coding_tutorial_1\"></a>\n",
        "## Validation sets"
      ]
    },
    {
      "cell_type": "markdown",
      "metadata": {
        "id": "TA1TBKn3tjLK"
      },
      "source": [
        "#### Load the data"
      ]
    },
    {
      "cell_type": "code",
      "metadata": {
        "id": "L4LiBVWHtjLL",
        "outputId": "4109d027-ff5b-4b0f-b9e2-78d064e7ea70",
        "colab": {
          "base_uri": "https://localhost:8080/"
        }
      },
      "source": [
        "# Load the diabetes dataset\n",
        "from sklearn.datasets import load_diabetes\n",
        "\n",
        "diabetes_dataset = load_diabetes()\n",
        "print(diabetes_dataset[\"DESCR\"])"
      ],
      "execution_count": 2,
      "outputs": [
        {
          "output_type": "stream",
          "text": [
            ".. _diabetes_dataset:\n",
            "\n",
            "Diabetes dataset\n",
            "----------------\n",
            "\n",
            "Ten baseline variables, age, sex, body mass index, average blood\n",
            "pressure, and six blood serum measurements were obtained for each of n =\n",
            "442 diabetes patients, as well as the response of interest, a\n",
            "quantitative measure of disease progression one year after baseline.\n",
            "\n",
            "**Data Set Characteristics:**\n",
            "\n",
            "  :Number of Instances: 442\n",
            "\n",
            "  :Number of Attributes: First 10 columns are numeric predictive values\n",
            "\n",
            "  :Target: Column 11 is a quantitative measure of disease progression one year after baseline\n",
            "\n",
            "  :Attribute Information:\n",
            "      - Age\n",
            "      - Sex\n",
            "      - Body mass index\n",
            "      - Average blood pressure\n",
            "      - S1\n",
            "      - S2\n",
            "      - S3\n",
            "      - S4\n",
            "      - S5\n",
            "      - S6\n",
            "\n",
            "Note: Each of these 10 feature variables have been mean centered and scaled by the standard deviation times `n_samples` (i.e. the sum of squares of each column totals 1).\n",
            "\n",
            "Source URL:\n",
            "https://www4.stat.ncsu.edu/~boos/var.select/diabetes.html\n",
            "\n",
            "For more information see:\n",
            "Bradley Efron, Trevor Hastie, Iain Johnstone and Robert Tibshirani (2004) \"Least Angle Regression,\" Annals of Statistics (with discussion), 407-499.\n",
            "(https://web.stanford.edu/~hastie/Papers/LARS/LeastAngle_2002.pdf)\n"
          ],
          "name": "stdout"
        }
      ]
    },
    {
      "cell_type": "code",
      "metadata": {
        "id": "mmwERe5ZtjLM",
        "outputId": "c45698cb-12b2-427d-bb61-c64f2ce41a45",
        "colab": {
          "base_uri": "https://localhost:8080/"
        }
      },
      "source": [
        "# Save the input and target variables\n",
        "print(diabetes_dataset.keys())\n",
        "\n",
        "data = diabetes_dataset[\"data\"]\n",
        "targets = diabetes_dataset['target']"
      ],
      "execution_count": 4,
      "outputs": [
        {
          "output_type": "stream",
          "text": [
            "dict_keys(['data', 'target', 'DESCR', 'feature_names', 'data_filename', 'target_filename'])\n"
          ],
          "name": "stdout"
        }
      ]
    },
    {
      "cell_type": "code",
      "metadata": {
        "id": "J-vaYrBztjLM",
        "outputId": "69ac930c-0c28-4d51-a947-aa4017d2c181",
        "colab": {
          "base_uri": "https://localhost:8080/"
        }
      },
      "source": [
        "# Normalise the target data (this will make clearer training curves)\n",
        "targets = (targets - targets.mean(axis=0)) / targets.std()\n",
        "targets"
      ],
      "execution_count": 6,
      "outputs": [
        {
          "output_type": "execute_result",
          "data": {
            "text/plain": [
              "array([-1.47194752e-02, -1.00165882e+00, -1.44579915e-01,  6.99512942e-01,\n",
              "       -2.22496178e-01, -7.15965848e-01, -1.83538046e-01, -1.15749134e+00,\n",
              "       -5.47147277e-01,  2.05006151e+00, -6.64021672e-01, -1.07957508e+00,\n",
              "        3.48889755e-01,  4.26806019e-01, -4.43258925e-01,  2.45001404e-01,\n",
              "        1.80071184e-01, -1.05621783e-01, -7.15965848e-01,  2.06043272e-01,\n",
              "       -1.09256112e+00, -1.33929596e+00, -1.09256112e+00,  1.20596866e+00,\n",
              "        4.13819975e-01,  6.47568766e-01, -1.96524090e-01, -8.71798376e-01,\n",
              "       -2.74440354e-01,  1.69943833e+00, -3.00412442e-01, -1.20943552e+00,\n",
              "        2.45262887e+00, -8.45826288e-01, -1.13151925e+00, -6.51035629e-01,\n",
              "        1.46568953e+00,  1.60853602e+00,  1.29687096e+00, -8.06868156e-01,\n",
              "       -6.77007716e-01, -1.26137969e+00, -1.18346343e+00, -7.80896068e-01,\n",
              "        1.38777327e+00, -1.28735178e+00,  4.91736239e-01, -1.31593871e-01,\n",
              "       -1.00165882e+00, -1.31593871e-01,  3.72247006e-02,  9.46247777e-01,\n",
              "       -1.20943552e+00, -6.25063541e-01,  3.87847887e-01, -3.13398486e-01,\n",
              "       -1.30033783e+00, -1.49512849e+00,  2.32015360e-01,  2.32015360e-01,\n",
              "       -1.18346343e+00, -1.05621783e-01, -1.30033783e+00, -3.13398486e-01,\n",
              "       -1.05360299e+00,  1.41113052e-01, -2.77055191e-02, -7.15965848e-01,\n",
              "        1.02154920e-01,  3.35903711e-01, -1.35228200e+00,  1.53061975e+00,\n",
              "        6.47568766e-01, -5.34161233e-01, -8.71798376e-01, -1.43019827e+00,\n",
              "        2.32015360e-01,  6.21596678e-01,  1.29687096e+00, -5.08189145e-01,\n",
              "       -1.18607827e-01, -1.31332387e+00, -1.30033783e+00,  7.51457118e-01,\n",
              "       -1.13151925e+00, -1.44579915e-01, -1.26137969e+00, -2.35482222e-01,\n",
              "       -1.43019827e+00, -5.34161233e-01, -7.02979804e-01,  1.54099096e-01,\n",
              "       -1.35228200e+00, -7.28951892e-01, -8.06868156e-01,  1.28127008e-01,\n",
              "       -2.77055191e-02,  1.64749415e+00, -7.80896068e-01, -8.97770464e-01,\n",
              "       -3.13398486e-01, -6.51035629e-01,  1.94617316e+00,  5.95624590e-01,\n",
              "       -7.41937936e-01, -1.28735178e+00, -2.35482222e-01, -1.05621783e-01,\n",
              "        1.03715008e+00, -9.23742551e-01, -6.25063541e-01, -1.20943552e+00,\n",
              "        1.21895470e+00,  1.88124294e+00,  1.37478723e+00,  9.98191953e-01,\n",
              "        1.59554997e+00,  1.67346624e+00,  3.48889755e-01,  6.21596678e-01,\n",
              "        6.21596678e-01,  2.70973492e-01,  3.61875799e-01, -8.84784420e-01,\n",
              "       -4.04300794e-01,  1.15140964e-01, -6.89993760e-01, -5.60133321e-01,\n",
              "       -4.82217057e-01,  1.50464767e+00,  1.58256393e+00,  7.61828325e-02,\n",
              "       -5.86105409e-01, -8.97770464e-01, -6.38049585e-01,  1.55659184e+00,\n",
              "       -8.71798376e-01,  1.66048019e+00,  2.38769865e+00,  1.67346624e+00,\n",
              "       -4.43258925e-01,  2.14096382e+00,  1.07610822e+00, -1.19644947e+00,\n",
              "        2.83959536e-01,  1.38777327e+00,  3.35903711e-01, -3.13398486e-01,\n",
              "       -7.28951892e-01, -3.39370574e-01,  1.76436855e+00, -8.32840244e-01,\n",
              "        1.81631272e+00, -1.05360299e+00,  5.82638546e-01,  4.39792063e-01,\n",
              "       -1.65096101e+00, -8.84784420e-01, -7.28951892e-01,  5.56666458e-01,\n",
              "       -1.28735178e+00,  8.42359425e-01,  2.57987448e-01, -2.74440354e-01,\n",
              "        8.03401293e-01, -1.20943552e+00, -1.06658903e+00,  8.81317557e-01,\n",
              "        1.50464767e+00, -1.73343121e-03, -1.36526805e+00, -1.01464486e+00,\n",
              "        1.85527085e+00, -6.64021672e-01, -1.47194752e-02, -3.26384530e-01,\n",
              "        1.10208030e+00,  9.46247777e-01, -9.23742551e-01, -1.47194752e-02,\n",
              "       -5.86105409e-01, -1.14450530e+00, -1.83538046e-01,  4.26806019e-01,\n",
              "        1.46568953e+00, -6.64021672e-01, -1.96524090e-01, -1.18607827e-01,\n",
              "       -1.44579915e-01, -9.49714639e-01,  1.81631272e+00,  3.35903711e-01,\n",
              "       -7.93882112e-01, -4.69231013e-01, -8.58812332e-01, -3.91314750e-01,\n",
              "       -1.04061695e+00, -3.00412442e-01, -1.31593871e-01, -8.06868156e-01,\n",
              "        7.61828325e-02, -1.46915640e+00,  5.69652502e-01,  9.07289645e-01,\n",
              "        1.62152206e+00, -6.89993760e-01,  5.69652502e-01,  6.47568766e-01,\n",
              "        3.72247006e-02, -9.75686727e-01,  5.04722283e-01, -1.06658903e+00,\n",
              "       -1.02763090e+00, -1.33929596e+00, -1.13151925e+00,  1.43971745e+00,\n",
              "        1.24492679e+00,  1.86825690e+00,  8.03401293e-01,  4.26806019e-01,\n",
              "       -9.62700683e-01, -7.67910024e-01,  1.29687096e+00, -2.77055191e-02,\n",
              "       -9.75686727e-01,  7.25485030e-01, -9.75686727e-01, -5.73119365e-01,\n",
              "        1.02154920e-01, -1.28735178e+00,  8.81317557e-01,  2.42386567e-02,\n",
              "        1.38777327e+00, -8.06868156e-01,  1.21895470e+00, -3.65342662e-01,\n",
              "       -1.10554717e+00, -1.04061695e+00,  1.36180118e+00,  1.42673140e+00,\n",
              "        1.59554997e+00,  3.22917667e-01, -1.05360299e+00, -1.36526805e+00,\n",
              "        4.52778107e-01, -3.52356618e-01, -9.62700683e-01, -1.31332387e+00,\n",
              "        1.37478723e+00,  8.16387337e-01,  1.95915920e+00,  1.17999657e+00,\n",
              "       -7.93882112e-01, -2.77055191e-02,  2.05006151e+00,  1.12526127e-02,\n",
              "        2.51755909e+00, -1.15749134e+00, -8.19854200e-01, -1.32630991e+00,\n",
              "       -1.46915640e+00, -6.38049585e-01,  2.02408942e+00, -4.69231013e-01,\n",
              "       -9.26357388e-02, -1.01464486e+00, -1.39124013e+00, -4.82217057e-01,\n",
              "        1.45270349e+00, -8.45826288e-01,  6.47568766e-01, -3.26384530e-01,\n",
              "        3.87847887e-01,  1.15402448e+00, -1.11853321e+00, -7.54923980e-01,\n",
              "        1.69943833e+00, -1.14450530e+00, -6.51035629e-01,  6.21596678e-01,\n",
              "        1.46568953e+00, -7.54923980e-01,  1.01117800e+00,  3.74861843e-01,\n",
              "        5.02107446e-02,  1.05013613e+00, -1.19644947e+00,  8.68331513e-01,\n",
              "       -9.36728595e-01, -1.09256112e+00,  2.33575448e+00,  1.24492679e+00,\n",
              "       -8.84784420e-01,  6.21596678e-01, -1.26137969e+00, -8.71798376e-01,\n",
              "       -8.19854200e-01, -1.57304475e+00, -3.00412442e-01, -8.97770464e-01,\n",
              "        1.59554997e+00, -1.13151925e+00,  5.95624590e-01,  1.08909426e+00,\n",
              "        1.30985701e+00, -3.65342662e-01, -1.40422618e+00,  2.57987448e-01,\n",
              "       -4.95203101e-01, -1.31593871e-01, -5.60133321e-01,  3.61875799e-01,\n",
              "       -1.05621783e-01,  1.41113052e-01, -6.66636509e-02, -7.15965848e-01,\n",
              "        8.81317557e-01,  4.91736239e-01, -5.60133321e-01,  5.04722283e-01,\n",
              "       -3.91314750e-01,  1.01117800e+00,  1.16701052e+00,  1.24492679e+00,\n",
              "        1.25791283e+00,  5.17708327e-01, -2.74440354e-01,  1.10208030e+00,\n",
              "       -9.62700683e-01, -2.22496178e-01,  1.19298261e+00,  6.08610634e-01,\n",
              "        1.53061975e+00,  1.54099096e-01, -1.04061695e+00, -7.28951892e-01,\n",
              "        1.99811734e+00, -7.93882112e-01,  8.03401293e-01, -7.41937936e-01,\n",
              "        8.29373381e-01,  1.43971745e+00,  3.35903711e-01, -5.08189145e-01,\n",
              "        6.21596678e-01, -1.70552003e-01, -1.70552003e-01, -8.32840244e-01,\n",
              "       -5.36776070e-02, -8.32840244e-01,  1.17999657e+00, -1.05360299e+00,\n",
              "       -9.75686727e-01, -5.60133321e-01,  1.55659184e+00, -1.19644947e+00,\n",
              "       -1.27436574e+00,  8.94303601e-01, -8.06868156e-01,  2.06304756e+00,\n",
              "        1.67346624e+00,  3.87847887e-01,  2.19290800e+00, -1.22242156e+00,\n",
              "        1.42673140e+00,  6.99512942e-01,  1.05013613e+00,  1.16701052e+00,\n",
              "       -3.78328706e-01,  1.93057228e-01, -1.15749134e+00,  5.82638546e-01,\n",
              "       -1.05360299e+00,  2.06043272e-01, -1.57565959e-01,  8.42359425e-01,\n",
              "       -4.04300794e-01,  1.07610822e+00,  1.20596866e+00, -1.45617035e+00,\n",
              "       -1.30033783e+00, -6.25063541e-01, -2.61454310e-01, -8.32840244e-01,\n",
              "       -1.07957508e+00,  8.68331513e-01, -1.04061695e+00,  6.34582722e-01,\n",
              "       -5.47147277e-01, -1.31332387e+00,  1.62152206e+00, -1.15749134e+00,\n",
              "       -4.43258925e-01, -1.07957508e+00,  1.56957789e+00,  1.37478723e+00,\n",
              "       -1.41721222e+00,  5.95624590e-01,  1.16701052e+00,  1.03715008e+00,\n",
              "        2.96945580e-01, -7.67910024e-01,  2.06043272e-01,  1.59554997e+00,\n",
              "        1.82929877e+00,  1.67346624e+00, -1.04061695e+00, -1.57565959e-01,\n",
              "        4.78750195e-01,  3.74861843e-01,  7.38471074e-01, -2.09510134e-01,\n",
              "        1.41374536e+00, -5.08189145e-01, -2.74440354e-01,  2.83959536e-01,\n",
              "        1.36180118e+00, -1.26137969e+00, -8.84784420e-01, -1.43019827e+00,\n",
              "       -7.96496949e-02,  7.77429206e-01,  1.05013613e+00, -7.93882112e-01,\n",
              "       -5.34161233e-01, -1.73343121e-03, -4.17286837e-01, -1.10554717e+00,\n",
              "        2.05006151e+00, -7.54923980e-01,  4.00833931e-01, -1.11853321e+00,\n",
              "        2.70973492e-01, -1.04061695e+00, -1.33929596e+00, -1.14450530e+00,\n",
              "       -1.35228200e+00,  3.35903711e-01, -6.25063541e-01, -2.61454310e-01,\n",
              "        8.81317557e-01, -1.23540761e+00])"
            ]
          },
          "metadata": {
            "tags": []
          },
          "execution_count": 6
        }
      ]
    },
    {
      "cell_type": "code",
      "metadata": {
        "id": "HAQMDL2ytjLN",
        "outputId": "07c7dd06-4268-4b33-8f6d-008865bbc40a",
        "colab": {
          "base_uri": "https://localhost:8080/"
        }
      },
      "source": [
        "# Split the data into train and test sets\n",
        "from sklearn.model_selection import train_test_split\n",
        "\n",
        "train_data, test_data, train_targets, test_targets = train_test_split(data, targets, test_size=0.1)\n",
        "\n",
        "print(train_data.shape)\n",
        "print(train_targets.shape)\n",
        "print(test_data.shape)\n",
        "print(test_targets.shape)"
      ],
      "execution_count": 7,
      "outputs": [
        {
          "output_type": "stream",
          "text": [
            "(397, 10)\n",
            "(397,)\n",
            "(45, 10)\n",
            "(45,)\n"
          ],
          "name": "stdout"
        }
      ]
    },
    {
      "cell_type": "markdown",
      "metadata": {
        "id": "jnbWToGPtjLO"
      },
      "source": [
        "#### Train a feedforward neural network model"
      ]
    },
    {
      "cell_type": "code",
      "metadata": {
        "id": "aonRKVJZtjLP"
      },
      "source": [
        "# Build the model\n",
        "from tensorflow.keras.models import Sequential\n",
        "from tensorflow.keras.layers import Dense\n",
        "\n",
        "def get_model():\n",
        "  model = Sequential([\n",
        "                      Dense(128, activation='relu', input_shape=(train_data.shape[1],)),\n",
        "                      Dense(128, activation='relu'),\n",
        "                      Dense(128,activation='relu'),\n",
        "                      Dense(128, activation='relu'),\n",
        "                      Dense(128, activation='relu'),\n",
        "                      Dense(1)\n",
        "  ])\n",
        "  return model\n",
        "\n",
        "model = get_model()"
      ],
      "execution_count": 8,
      "outputs": []
    },
    {
      "cell_type": "code",
      "metadata": {
        "id": "9zZDdJJitjLP",
        "outputId": "7c0659b4-8818-43e0-f566-9a80b348e286",
        "colab": {
          "base_uri": "https://localhost:8080/"
        }
      },
      "source": [
        "# Print the model summary\n",
        "model.summary()\n"
      ],
      "execution_count": 9,
      "outputs": [
        {
          "output_type": "stream",
          "text": [
            "Model: \"sequential\"\n",
            "_________________________________________________________________\n",
            "Layer (type)                 Output Shape              Param #   \n",
            "=================================================================\n",
            "dense (Dense)                (None, 128)               1408      \n",
            "_________________________________________________________________\n",
            "dense_1 (Dense)              (None, 128)               16512     \n",
            "_________________________________________________________________\n",
            "dense_2 (Dense)              (None, 128)               16512     \n",
            "_________________________________________________________________\n",
            "dense_3 (Dense)              (None, 128)               16512     \n",
            "_________________________________________________________________\n",
            "dense_4 (Dense)              (None, 128)               16512     \n",
            "_________________________________________________________________\n",
            "dense_5 (Dense)              (None, 1)                 129       \n",
            "=================================================================\n",
            "Total params: 67,585\n",
            "Trainable params: 67,585\n",
            "Non-trainable params: 0\n",
            "_________________________________________________________________\n"
          ],
          "name": "stdout"
        }
      ]
    },
    {
      "cell_type": "code",
      "metadata": {
        "id": "gAa0lIGftjLQ"
      },
      "source": [
        "# Compile the model\n",
        "\n",
        "model.compile(optimizer=\"adam\", loss=\"mse\", metrics=[\"mae\"])"
      ],
      "execution_count": 10,
      "outputs": []
    },
    {
      "cell_type": "code",
      "metadata": {
        "id": "IF2IFYvmtjLQ"
      },
      "source": [
        "# Train the model, with some of the data reserved for validation\n",
        "\n",
        "history = model.fit(train_data, train_targets, epochs=100, validation_split=0.15, batch_size=64, verbose=False)"
      ],
      "execution_count": 11,
      "outputs": []
    },
    {
      "cell_type": "code",
      "metadata": {
        "id": "9M-UvTEDtjLR",
        "outputId": "33a166af-7d4a-4900-b64e-ed80757743a0",
        "colab": {
          "base_uri": "https://localhost:8080/"
        }
      },
      "source": [
        "# Evaluate the model on the test set\n",
        "\n",
        "model.evaluate(test_data, test_targets, verbose=2)"
      ],
      "execution_count": 12,
      "outputs": [
        {
          "output_type": "stream",
          "text": [
            "2/2 - 0s - loss: 1.1119 - mae: 0.7951\n"
          ],
          "name": "stdout"
        },
        {
          "output_type": "execute_result",
          "data": {
            "text/plain": [
              "[1.1119046211242676, 0.7950690388679504]"
            ]
          },
          "metadata": {
            "tags": []
          },
          "execution_count": 12
        }
      ]
    },
    {
      "cell_type": "markdown",
      "metadata": {
        "id": "t886HXa6tjLR"
      },
      "source": [
        "#### Plot the learning curves"
      ]
    },
    {
      "cell_type": "code",
      "metadata": {
        "id": "eVw8uefftjLR"
      },
      "source": [
        "import matplotlib.pyplot as plt\n",
        "%matplotlib inline"
      ],
      "execution_count": null,
      "outputs": []
    },
    {
      "cell_type": "code",
      "metadata": {
        "id": "x--1VpAptjLR",
        "outputId": "439a19f2-ac78-4ff2-cf5b-a5b7070a0251",
        "colab": {
          "base_uri": "https://localhost:8080/",
          "height": 295
        }
      },
      "source": [
        "# Plot the training and validation loss\n",
        "from matplotlib import pyplot as plt\n",
        "\n",
        "plt.plot(history.history['loss'])\n",
        "plt.plot(history.history['val_loss'])\n",
        "plt.title('Loss vs. epochs')\n",
        "plt.ylabel('Loss')\n",
        "plt.xlabel('Epoch')\n",
        "plt.legend(['Training', 'Validation'], loc='upper right')\n",
        "plt.show()"
      ],
      "execution_count": 14,
      "outputs": [
        {
          "output_type": "display_data",
          "data": {
            "image/png": "[encoded data removed]",
            "text/plain": [
              "<Figure size 432x288 with 1 Axes>"
            ]
          },
          "metadata": {
            "tags": [],
            "needs_background": "light"
          }
        }
      ]
    },
    {
      "cell_type": "markdown",
      "metadata": {
        "id": "hDuCHMHQtjLS"
      },
      "source": [
        "***\n",
        "<a id=\"coding_tutorial_2\"></a>\n",
        "## Model regularisation"
      ]
    },
    {
      "cell_type": "markdown",
      "metadata": {
        "id": "o1nI7d5atjLS"
      },
      "source": [
        "#### Adding regularisation with weight decay and dropout"
      ]
    },
    {
      "cell_type": "code",
      "metadata": {
        "id": "CCd6p2bDtjLS"
      },
      "source": [
        "from tensorflow.keras.layers import Dropout\n",
        "from tensorflow.keras import regularizers"
      ],
      "execution_count": null,
      "outputs": []
    },
    {
      "cell_type": "code",
      "metadata": {
        "id": "LYyYXIcxtjLS"
      },
      "source": [
        "def get_regularised_model(wd, rate):\n",
        "    model = Sequential([\n",
        "        Dense(128, activation=\"relu\", input_shape=(train_data.shape[1],)),\n",
        "        Dense(128, activation=\"relu\"),\n",
        "        Dense(128, activation=\"relu\"),\n",
        "        Dense(128, activation=\"relu\"),\n",
        "        Dense(128, activation=\"relu\"),\n",
        "        Dense(128, activation=\"relu\"),\n",
        "        Dense(1)\n",
        "    ])\n",
        "    return model"
      ],
      "execution_count": null,
      "outputs": []
    },
    {
      "cell_type": "code",
      "metadata": {
        "id": "kpu0RuyltjLS"
      },
      "source": [
        "# Re-build the model with weight decay and dropout layers\n",
        "\n"
      ],
      "execution_count": null,
      "outputs": []
    },
    {
      "cell_type": "code",
      "metadata": {
        "id": "BYQ2XPK3tjLT"
      },
      "source": [
        "# Compile the model\n",
        "\n"
      ],
      "execution_count": null,
      "outputs": []
    },
    {
      "cell_type": "code",
      "metadata": {
        "id": "EJOHFm0ktjLT"
      },
      "source": [
        "# Train the model, with some of the data reserved for validation\n",
        "\n"
      ],
      "execution_count": null,
      "outputs": []
    },
    {
      "cell_type": "code",
      "metadata": {
        "id": "nJu4-gLOtjLT"
      },
      "source": [
        "# Evaluate the model on the test set\n",
        "\n"
      ],
      "execution_count": null,
      "outputs": []
    },
    {
      "cell_type": "markdown",
      "metadata": {
        "id": "LJfJ3IWNtjLT"
      },
      "source": [
        "#### Plot the learning curves"
      ]
    },
    {
      "cell_type": "code",
      "metadata": {
        "id": "IxZ0NeEEtjLT"
      },
      "source": [
        "# Plot the training and validation loss\n",
        "\n",
        "import matplotlib.pyplot as plt\n",
        "\n",
        "plt.plot(history.history['loss'])\n",
        "plt.plot(history.history['val_loss'])\n",
        "plt.title('Loss vs. epochs')\n",
        "plt.ylabel('Loss')\n",
        "plt.xlabel('Epoch')\n",
        "plt.legend(['Training', 'Validation'], loc='upper right')\n",
        "plt.show()"
      ],
      "execution_count": null,
      "outputs": []
    },
    {
      "cell_type": "markdown",
      "metadata": {
        "id": "le25MZk6tjLU"
      },
      "source": [
        "***\n",
        "<a id=\"coding_tutorial_3\"></a>\n",
        "## Introduction to callbacks"
      ]
    },
    {
      "cell_type": "markdown",
      "metadata": {
        "id": "yckYmntotjLU"
      },
      "source": [
        "#### Example training callback"
      ]
    },
    {
      "cell_type": "code",
      "metadata": {
        "id": "wKL9eduZtjLU"
      },
      "source": [
        "# Write a custom callback\n",
        "\n"
      ],
      "execution_count": null,
      "outputs": []
    },
    {
      "cell_type": "code",
      "metadata": {
        "id": "9b72_b7atjLU"
      },
      "source": [
        "# Re-build the model\n",
        "\n"
      ],
      "execution_count": null,
      "outputs": []
    },
    {
      "cell_type": "code",
      "metadata": {
        "id": "_4rEwlTRtjLU"
      },
      "source": [
        "# Compile the model\n",
        "\n"
      ],
      "execution_count": null,
      "outputs": []
    },
    {
      "cell_type": "markdown",
      "metadata": {
        "id": "57633S6StjLU"
      },
      "source": [
        "#### Train the model with the callback"
      ]
    },
    {
      "cell_type": "code",
      "metadata": {
        "id": "qEL6h_72tjLU"
      },
      "source": [
        "# Train the model, with some of the data reserved for validation\n",
        "\n"
      ],
      "execution_count": null,
      "outputs": []
    },
    {
      "cell_type": "code",
      "metadata": {
        "id": "xVuEXnGZtjLV"
      },
      "source": [
        "# Evaluate the model\n",
        "\n"
      ],
      "execution_count": null,
      "outputs": []
    },
    {
      "cell_type": "code",
      "metadata": {
        "id": "r6TfVyINtjLV"
      },
      "source": [
        "# Make predictions with the model\n",
        "\n"
      ],
      "execution_count": null,
      "outputs": []
    },
    {
      "cell_type": "markdown",
      "metadata": {
        "id": "fNF2EhKWtjLV"
      },
      "source": [
        "***\n",
        "<a id=\"coding_tutorial_4\"></a>\n",
        "## Early stopping / patience"
      ]
    },
    {
      "cell_type": "markdown",
      "metadata": {
        "id": "GdXqfcMxtjLV"
      },
      "source": [
        "#### Re-train the models with early stopping"
      ]
    },
    {
      "cell_type": "code",
      "metadata": {
        "id": "UxRWLcvitjLV"
      },
      "source": [
        "# Re-train the unregularised model\n",
        "\n"
      ],
      "execution_count": null,
      "outputs": []
    },
    {
      "cell_type": "code",
      "metadata": {
        "id": "csXhNTgstjLW"
      },
      "source": [
        "# Evaluate the model on the test set\n",
        "\n"
      ],
      "execution_count": null,
      "outputs": []
    },
    {
      "cell_type": "code",
      "metadata": {
        "id": "2gYshqeQtjLW"
      },
      "source": [
        "# Re-train the regularised model\n",
        "\n"
      ],
      "execution_count": null,
      "outputs": []
    },
    {
      "cell_type": "code",
      "metadata": {
        "id": "E01dIvAstjLW"
      },
      "source": [
        "# Evaluate the model on the test set\n",
        "\n"
      ],
      "execution_count": null,
      "outputs": []
    },
    {
      "cell_type": "markdown",
      "metadata": {
        "id": "2q3LqIT_tjLW"
      },
      "source": [
        "#### Plot the learning curves"
      ]
    },
    {
      "cell_type": "code",
      "metadata": {
        "id": "ObHc5jiItjLW"
      },
      "source": [
        "# Plot the training and validation loss\n",
        "\n",
        "import matplotlib.pyplot as plt\n",
        "\n",
        "fig = plt.figure(figsize=(12, 5))\n",
        "\n",
        "fig.add_subplot(121)\n",
        "\n",
        "plt.plot(unreg_history.history['loss'])\n",
        "plt.plot(unreg_history.history['val_loss'])\n",
        "plt.title('Unregularised model: loss vs. epochs')\n",
        "plt.ylabel('Loss')\n",
        "plt.xlabel('Epoch')\n",
        "plt.legend(['Training', 'Validation'], loc='upper right')\n",
        "\n",
        "fig.add_subplot(122)\n",
        "\n",
        "plt.plot(reg_history.history['loss'])\n",
        "plt.plot(reg_history.history['val_loss'])\n",
        "plt.title('Regularised model: loss vs. epochs')\n",
        "plt.ylabel('Loss')\n",
        "plt.xlabel('Epoch')\n",
        "plt.legend(['Training', 'Validation'], loc='upper right')\n",
        "\n",
        "plt.show()"
      ],
      "execution_count": null,
      "outputs": []
    }
  ]
}