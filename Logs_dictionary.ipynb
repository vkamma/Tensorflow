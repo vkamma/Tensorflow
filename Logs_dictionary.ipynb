{
  "nbformat": 4,
  "nbformat_minor": 0,
  "metadata": {
    "kernelspec": {
      "display_name": "Python 3",
      "language": "python",
      "name": "python3"
    },
    "language_info": {
      "codemirror_mode": {
        "name": "ipython",
        "version": 3
      },
      "file_extension": ".py",
      "mimetype": "text/x-python",
      "name": "python",
      "nbconvert_exporter": "python",
      "pygments_lexer": "ipython3",
      "version": "3.7.1"
    },
    "colab": {
      "name": "Logs dictionary.ipynb",
      "provenance": [],
      "include_colab_link": true
    }
  },
  "cells": [
    {
      "cell_type": "markdown",
      "metadata": {
        "id": "view-in-github",
        "colab_type": "text"
      },
      "source": [
        "<a href=\"https://colab.research.google.com/github/vkamma/Tensorflow/blob/main/Logs_dictionary.ipynb\" target=\"_parent\"><img src=\"https://colab.research.google.com/assets/colab-badge.svg\" alt=\"Open In Colab\"/></a>"
      ]
    },
    {
      "cell_type": "markdown",
      "metadata": {
        "id": "QoUt75F099wg"
      },
      "source": [
        "# Using the logs dictionary\n",
        "\n",
        "In this reading, we will learn how to take advantage of the `logs` dictionary in Keras to define our own callbacks and check the progress of a model."
      ]
    },
    {
      "cell_type": "code",
      "metadata": {
        "id": "FfLBvPqh99wj",
        "outputId": "4bb31d6e-76bb-426b-cc5a-16c11be1347d",
        "colab": {
          "base_uri": "https://localhost:8080/"
        }
      },
      "source": [
        "import tensorflow as tf\n",
        "print(tf.__version__)"
      ],
      "execution_count": 1,
      "outputs": [
        {
          "output_type": "stream",
          "text": [
            "2.5.0\n"
          ],
          "name": "stdout"
        }
      ]
    },
    {
      "cell_type": "markdown",
      "metadata": {
        "id": "UDqYSyxR99wk"
      },
      "source": [
        "The `logs` dictionary stores the loss value, along with all of the metrics we are using at the end of a batch or epoch.\n",
        "\n",
        "We can incorporate information from the `logs` dictionary into our own custom callbacks.\n",
        "\n",
        "Let's see this in action in the context of a model we will construct and fit to the `sklearn` diabetes dataset that we have been using in this module.\n",
        "\n",
        "Let's first import the dataset, and split it into the training and test sets."
      ]
    },
    {
      "cell_type": "code",
      "metadata": {
        "id": "ed_IZBUH99wl"
      },
      "source": [
        "# Load the diabetes dataset\n",
        "\n",
        "from sklearn.datasets import load_diabetes\n",
        "\n",
        "diabetes_dataset = load_diabetes()"
      ],
      "execution_count": 2,
      "outputs": []
    },
    {
      "cell_type": "code",
      "metadata": {
        "id": "JO93_gsm99wl"
      },
      "source": [
        "# Save the input and target variables\n",
        "\n",
        "from sklearn.model_selection import train_test_split\n",
        "\n",
        "data = diabetes_dataset['data']\n",
        "targets = diabetes_dataset['target']"
      ],
      "execution_count": 3,
      "outputs": []
    },
    {
      "cell_type": "code",
      "metadata": {
        "id": "I86Kt3xU99wm"
      },
      "source": [
        "# Split the data set into training and test sets\n",
        "\n",
        "train_data, test_data, train_targets, test_targets = train_test_split(data, targets, test_size=0.1)"
      ],
      "execution_count": 4,
      "outputs": []
    },
    {
      "cell_type": "markdown",
      "metadata": {
        "id": "tHCNCrdZ99wm"
      },
      "source": [
        "Now we construct our model."
      ]
    },
    {
      "cell_type": "code",
      "metadata": {
        "id": "xEymEmuM99wn"
      },
      "source": [
        "# Build the model\n",
        "\n",
        "from tensorflow.keras.models import Sequential\n",
        "from tensorflow.keras.layers import Dense, BatchNormalization\n",
        "\n",
        "model = tf.keras.Sequential([\n",
        "    Dense(128, activation='relu', input_shape=(train_data.shape[1],)),\n",
        "    Dense(64,activation='relu'),\n",
        "    BatchNormalization(),\n",
        "    Dense(64, activation='relu'),\n",
        "    Dense(64, activation='relu'),\n",
        "    Dense(1)        \n",
        "])"
      ],
      "execution_count": 5,
      "outputs": []
    },
    {
      "cell_type": "markdown",
      "metadata": {
        "id": "kgdTb0gl99wo"
      },
      "source": [
        "We now compile the model, with\n",
        "* Mean squared error as the loss function,\n",
        "* the Adam optimizer, and \n",
        "* Mean absolute error (`mae`) as a metric."
      ]
    },
    {
      "cell_type": "code",
      "metadata": {
        "id": "68HfGQzp99wo"
      },
      "source": [
        "# Compile the model\n",
        "    \n",
        "model.compile(loss='mse', optimizer=\"adam\", metrics=['mae'])"
      ],
      "execution_count": 6,
      "outputs": []
    },
    {
      "cell_type": "markdown",
      "metadata": {
        "id": "f0-xTcOz99wp"
      },
      "source": [
        "### Defining a custom callback\n",
        "\n",
        "Now we define our custom callback using the `logs` dictionary to access the loss and metric values."
      ]
    },
    {
      "cell_type": "code",
      "metadata": {
        "id": "IzObwVio99wp"
      },
      "source": [
        "# Create the custom callback\n",
        "\n",
        "class LossAndMetricCallback(tf.keras.callbacks.Callback):\n",
        "\n",
        "    # Print the loss after every second batch in the training set\n",
        "    def on_train_batch_end(self, batch, logs=None):\n",
        "        if batch %2 ==0:\n",
        "            print('\\n After batch {}, the loss is {:7.2f}.'.format(batch, logs['loss']))\n",
        "    \n",
        "    # Print the loss after each batch in the test set\n",
        "    def on_test_batch_end(self, batch, logs=None):\n",
        "        print('\\n After batch {}, the loss is {:7.2f}.'.format(batch, logs['loss']))\n",
        "\n",
        "    # Print the loss and mean absolute error after each epoch\n",
        "    def on_epoch_end(self, epoch, logs=None):\n",
        "        print('Epoch {}: Average loss is {:7.2f}, mean absolute error is {:7.2f}.'.format(epoch, logs['loss'], logs['mae']))\n",
        "    \n",
        "    # Notify the user when prediction has finished on each batch\n",
        "    def on_predict_batch_end(self,batch, logs=None):\n",
        "        print(\"Finished prediction on batch {}!\".format(batch))"
      ],
      "execution_count": 7,
      "outputs": []
    },
    {
      "cell_type": "markdown",
      "metadata": {
        "id": "2hiDkjjo99wq"
      },
      "source": [
        "We now fit the model to the data, and specify that we would like to use our custom callback `LossAndMetricCallback()`."
      ]
    },
    {
      "cell_type": "code",
      "metadata": {
        "id": "bhX1Y7dy99wq",
        "outputId": "d8812852-64ff-42b6-fe2f-f8b8d1a1170b",
        "colab": {
          "base_uri": "https://localhost:8080/"
        }
      },
      "source": [
        "# Train the model\n",
        "\n",
        "history = model.fit(train_data, train_targets, epochs=20,\n",
        "                    batch_size=100, callbacks=[LossAndMetricCallback()], verbose=False)"
      ],
      "execution_count": 8,
      "outputs": [
        {
          "output_type": "stream",
          "text": [
            "\n",
            " After batch 0, the loss is 30313.68.\n",
            "\n",
            " After batch 2, the loss is 28515.03.\n",
            "Epoch 0: Average loss is 28628.38, mean absolute error is  150.75.\n",
            "\n",
            " After batch 0, the loss is 29143.66.\n",
            "\n",
            " After batch 2, the loss is 28718.26.\n",
            "Epoch 1: Average loss is 28480.30, mean absolute error is  150.33.\n",
            "\n",
            " After batch 0, the loss is 29687.26.\n",
            "\n",
            " After batch 2, the loss is 28653.17.\n",
            "Epoch 2: Average loss is 28265.58, mean absolute error is  149.70.\n",
            "\n",
            " After batch 0, the loss is 29344.31.\n",
            "\n",
            " After batch 2, the loss is 27574.53.\n",
            "Epoch 3: Average loss is 27961.26, mean absolute error is  148.81.\n",
            "\n",
            " After batch 0, the loss is 26232.80.\n",
            "\n",
            " After batch 2, the loss is 28061.51.\n",
            "Epoch 4: Average loss is 27533.88, mean absolute error is  147.56.\n",
            "\n",
            " After batch 0, the loss is 24989.12.\n",
            "\n",
            " After batch 2, the loss is 26453.85.\n",
            "Epoch 5: Average loss is 26934.53, mean absolute error is  145.84.\n",
            "\n",
            " After batch 0, the loss is 24235.52.\n",
            "\n",
            " After batch 2, the loss is 24752.59.\n",
            "Epoch 6: Average loss is 26176.28, mean absolute error is  143.60.\n",
            "\n",
            " After batch 0, the loss is 23216.38.\n",
            "\n",
            " After batch 2, the loss is 25355.26.\n",
            "Epoch 7: Average loss is 25202.42, mean absolute error is  140.65.\n",
            "\n",
            " After batch 0, the loss is 22101.28.\n",
            "\n",
            " After batch 2, the loss is 25047.32.\n",
            "Epoch 8: Average loss is 24019.46, mean absolute error is  136.86.\n",
            "\n",
            " After batch 0, the loss is 21202.81.\n",
            "\n",
            " After batch 2, the loss is 22111.23.\n",
            "Epoch 9: Average loss is 22526.41, mean absolute error is  132.05.\n",
            "\n",
            " After batch 0, the loss is 25670.09.\n",
            "\n",
            " After batch 2, the loss is 20920.95.\n",
            "Epoch 10: Average loss is 20864.89, mean absolute error is  126.01.\n",
            "\n",
            " After batch 0, the loss is 17406.63.\n",
            "\n",
            " After batch 2, the loss is 19316.80.\n",
            "Epoch 11: Average loss is 18773.63, mean absolute error is  118.56.\n",
            "\n",
            " After batch 0, the loss is 18029.85.\n",
            "\n",
            " After batch 2, the loss is 17258.54.\n",
            "Epoch 12: Average loss is 16675.83, mean absolute error is  109.82.\n",
            "\n",
            " After batch 0, the loss is 15935.25.\n",
            "\n",
            " After batch 2, the loss is 15670.66.\n",
            "Epoch 13: Average loss is 14320.48, mean absolute error is   99.64.\n",
            "\n",
            " After batch 0, the loss is 13601.63.\n",
            "\n",
            " After batch 2, the loss is 11622.78.\n",
            "Epoch 14: Average loss is 12020.34, mean absolute error is   89.28.\n",
            "\n",
            " After batch 0, the loss is 9783.62.\n",
            "\n",
            " After batch 2, the loss is 10190.00.\n",
            "Epoch 15: Average loss is 10004.63, mean absolute error is   78.43.\n",
            "\n",
            " After batch 0, the loss is 8464.97.\n",
            "\n",
            " After batch 2, the loss is 8826.95.\n",
            "Epoch 16: Average loss is 8246.17, mean absolute error is   70.56.\n",
            "\n",
            " After batch 0, the loss is 5801.30.\n",
            "\n",
            " After batch 2, the loss is 6662.25.\n",
            "Epoch 17: Average loss is 6907.31, mean absolute error is   63.82.\n",
            "\n",
            " After batch 0, the loss is 5547.13.\n",
            "\n",
            " After batch 2, the loss is 5813.18.\n",
            "Epoch 18: Average loss is 6025.31, mean absolute error is   59.63.\n",
            "\n",
            " After batch 0, the loss is 6624.76.\n",
            "\n",
            " After batch 2, the loss is 5412.51.\n",
            "Epoch 19: Average loss is 5758.93, mean absolute error is   59.24.\n"
          ],
          "name": "stdout"
        }
      ]
    },
    {
      "cell_type": "markdown",
      "metadata": {
        "id": "fxiT283h99wr"
      },
      "source": [
        "We can also use our callback in the `evaluate` function..."
      ]
    },
    {
      "cell_type": "code",
      "metadata": {
        "id": "nHTinU4x99wr",
        "outputId": "4ec6d149-7f41-4ac6-a740-9663605c3a5c",
        "colab": {
          "base_uri": "https://localhost:8080/"
        }
      },
      "source": [
        "# Evaluate the model\n",
        "\n",
        "model_eval = model.evaluate(test_data, test_targets, batch_size=10, \n",
        "                            callbacks=[LossAndMetricCallback()], verbose=False)"
      ],
      "execution_count": 9,
      "outputs": [
        {
          "output_type": "stream",
          "text": [
            "\n",
            " After batch 0, the loss is 18900.92.\n",
            "\n",
            " After batch 1, the loss is 19831.78.\n",
            "\n",
            " After batch 2, the loss is 20585.66.\n",
            "\n",
            " After batch 3, the loss is 21080.88.\n",
            "\n",
            " After batch 4, the loss is 21695.05.\n"
          ],
          "name": "stdout"
        }
      ]
    },
    {
      "cell_type": "markdown",
      "metadata": {
        "id": "OYVXvYpf99wr"
      },
      "source": [
        "...And also the `predict` function."
      ]
    },
    {
      "cell_type": "code",
      "metadata": {
        "id": "uyUejiqQ99wr",
        "outputId": "23b1bc77-2b62-4ac4-8aee-55ec07f2e0f4",
        "colab": {
          "base_uri": "https://localhost:8080/"
        }
      },
      "source": [
        "# Get predictions from the model\n",
        "\n",
        "model_pred = model.predict(test_data, batch_size=10,\n",
        "                           callbacks=[LossAndMetricCallback()], verbose=False)"
      ],
      "execution_count": 10,
      "outputs": [
        {
          "output_type": "stream",
          "text": [
            "Finished prediction on batch 0!\n",
            "Finished prediction on batch 1!\n",
            "Finished prediction on batch 2!\n",
            "Finished prediction on batch 3!\n",
            "Finished prediction on batch 4!\n"
          ],
          "name": "stdout"
        }
      ]
    },
    {
      "cell_type": "markdown",
      "metadata": {
        "id": "XhhfcwVZ99ws"
      },
      "source": [
        "### Application - learning rate scheduler\n",
        "Let's now look at a more sophisticated custom callback. \n",
        "\n",
        "We are going to define a callback to change the learning rate of the optimiser of a model during training. We will do this by specifying the epochs and new learning rates where we would like it to be changed.\n",
        "\n",
        "First we define the auxillary function that returns the learning rate for each epoch based on our schedule."
      ]
    },
    {
      "cell_type": "code",
      "metadata": {
        "id": "rU_mGI8K99ws"
      },
      "source": [
        "# Define the learning rate schedule. The tuples below are (start_epoch, new_learning_rate)\n",
        "\n",
        "lr_schedule = [\n",
        "    (4, 0.03), (7, 0.02), (11, 0.005), (15, 0.007)\n",
        "]\n",
        "\n",
        "def get_new_epoch_lr(epoch, lr):\n",
        "    # Checks to see if the input epoch is listed in the learning rate schedule \n",
        "    # and if so, returns index in lr_schedule\n",
        "    epoch_in_sched = [i for i in range(len(lr_schedule)) if lr_schedule[i][0]==int(epoch)]\n",
        "    if len(epoch_in_sched)>0:\n",
        "        # If it is, return the learning rate corresponding to the epoch\n",
        "        return lr_schedule[epoch_in_sched[0]][1]\n",
        "    else:\n",
        "        # Otherwise, return the existing learning rate\n",
        "        return lr"
      ],
      "execution_count": 11,
      "outputs": []
    },
    {
      "cell_type": "markdown",
      "metadata": {
        "id": "plXsywly99ws"
      },
      "source": [
        "Let's now define the callback itself."
      ]
    },
    {
      "cell_type": "code",
      "metadata": {
        "id": "DBoUDMyF99wt"
      },
      "source": [
        "# Define the custom callback\n",
        "\n",
        "class LRScheduler(tf.keras.callbacks.Callback):\n",
        "    \n",
        "    def __init__(self, new_lr):\n",
        "        super(LRScheduler, self).__init__()\n",
        "        # Add the new learning rate function to our callback\n",
        "        self.new_lr = new_lr\n",
        "\n",
        "    def on_epoch_begin(self, epoch, logs=None):\n",
        "        # Make sure that the optimizer we have chosen has a learning rate, and raise an error if not\n",
        "        if not hasattr(self.model.optimizer, 'lr'):\n",
        "              raise ValueError('Error: Optimizer does not have a learning rate.')\n",
        "                \n",
        "        # Get the current learning rate\n",
        "        curr_rate = float(tf.keras.backend.get_value(self.model.optimizer.lr))\n",
        "        \n",
        "        # Call the auxillary function to get the scheduled learning rate for the current epoch\n",
        "        scheduled_rate = self.new_lr(epoch, curr_rate)\n",
        "\n",
        "        # Set the learning rate to the scheduled learning rate\n",
        "        tf.keras.backend.set_value(self.model.optimizer.lr, scheduled_rate)\n",
        "        print('Learning rate for epoch {} is {:7.3f}'.format(epoch, scheduled_rate))"
      ],
      "execution_count": 12,
      "outputs": []
    },
    {
      "cell_type": "markdown",
      "metadata": {
        "id": "3bTm19ex99wu"
      },
      "source": [
        "Let's now train the model again with our new callback. "
      ]
    },
    {
      "cell_type": "code",
      "metadata": {
        "id": "FJetoSMQ99wu"
      },
      "source": [
        "# Build the same model as before\n",
        "\n",
        "new_model = tf.keras.Sequential([\n",
        "    Dense(128, activation='relu', input_shape=(train_data.shape[1],)),\n",
        "    Dense(64,activation='relu'),\n",
        "    BatchNormalization(),\n",
        "    Dense(64, activation='relu'),\n",
        "    Dense(64, activation='relu'),\n",
        "    Dense(1)        \n",
        "])"
      ],
      "execution_count": 13,
      "outputs": []
    },
    {
      "cell_type": "code",
      "metadata": {
        "id": "_oLzmD9C99wu"
      },
      "source": [
        "# Compile the model\n",
        "\n",
        "new_model.compile(loss='mse',\n",
        "                optimizer=\"adam\",\n",
        "                metrics=['mae', 'mse'])"
      ],
      "execution_count": 14,
      "outputs": []
    },
    {
      "cell_type": "code",
      "metadata": {
        "id": "gFrlw0Af99wu",
        "outputId": "142bba34-1a9e-4143-d553-3b78de88b883",
        "colab": {
          "base_uri": "https://localhost:8080/"
        }
      },
      "source": [
        "# Fit the model with our learning rate scheduler callback\n",
        "\n",
        "new_history = new_model.fit(train_data, train_targets, epochs=20,\n",
        "                            batch_size=100, callbacks=[LRScheduler(get_new_epoch_lr)], verbose=False)"
      ],
      "execution_count": 15,
      "outputs": [
        {
          "output_type": "stream",
          "text": [
            "Learning rate for epoch 0 is   0.001\n",
            "Learning rate for epoch 1 is   0.001\n",
            "Learning rate for epoch 2 is   0.001\n",
            "Learning rate for epoch 3 is   0.001\n",
            "Learning rate for epoch 4 is   0.030\n",
            "Learning rate for epoch 5 is   0.030\n",
            "Learning rate for epoch 6 is   0.030\n",
            "Learning rate for epoch 7 is   0.020\n",
            "Learning rate for epoch 8 is   0.020\n",
            "Learning rate for epoch 9 is   0.020\n",
            "Learning rate for epoch 10 is   0.020\n",
            "Learning rate for epoch 11 is   0.005\n",
            "Learning rate for epoch 12 is   0.005\n",
            "Learning rate for epoch 13 is   0.005\n",
            "Learning rate for epoch 14 is   0.005\n",
            "Learning rate for epoch 15 is   0.007\n",
            "Learning rate for epoch 16 is   0.007\n",
            "Learning rate for epoch 17 is   0.007\n",
            "Learning rate for epoch 18 is   0.007\n",
            "Learning rate for epoch 19 is   0.007\n"
          ],
          "name": "stdout"
        }
      ]
    },
    {
      "cell_type": "markdown",
      "metadata": {
        "id": "Cwqm86M_99wv"
      },
      "source": [
        "### Further reading and resources\n",
        "* https://www.tensorflow.org/guide/keras/custom_callback\n",
        "* https://www.tensorflow.org/api_docs/python/tf/keras/callbacks/Callback"
      ]
    }
  ]
}